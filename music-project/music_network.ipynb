{
 "cells": [
  {
   "cell_type": "code",
   "execution_count": 10,
   "metadata": {},
   "outputs": [],
   "source": [
    "import pandas as pd\n",
    "import re\n",
    "from pathlib import Path\n",
    "import os"
   ]
  },
  {
   "attachments": {},
   "cell_type": "markdown",
   "metadata": {},
   "source": [
    "## Reading data\n",
    "data source: https://www.kaggle.com/datasets/mervedin/genius-lyrics?resource=download"
   ]
  },
  {
   "cell_type": "code",
   "execution_count": 24,
   "metadata": {},
   "outputs": [
    {
     "data": {
      "text/plain": [
       "(81,\n",
       " ['Lady Gaga',\n",
       "  'Wale',\n",
       "  'Kanye West',\n",
       "  'Nas',\n",
       "  'JAY-Z',\n",
       "  'Damso',\n",
       "  'DJ Khaled',\n",
       "  'Ariana Grande',\n",
       "  'Fetty Wap',\n",
       "  'JuL'])"
      ]
     },
     "execution_count": 24,
     "metadata": {},
     "output_type": "execute_result"
    }
   ],
   "source": [
    "folder_path = Path('data/genius_data/')\n",
    "artists_list = []\n",
    "for filename in folder_path.iterdir():\n",
    "    artis_name = re.match(r'.*/(.*).csv', str(filename)).group(1)\n",
    "    artists_list.append(artis_name)\n",
    "\n",
    "len(artists_list), artists_list[:10]"
   ]
  },
  {
   "cell_type": "code",
   "execution_count": 35,
   "metadata": {},
   "outputs": [],
   "source": [
    "features = []\n",
    "\n",
    "for filename in folder_path.iterdir():\n",
    "    browsed_artist = re.match(r'.*/(.*).csv', str(filename)).group(1)\n",
    "    with open(filename, 'r') as file:\n",
    "        content = file.read()\n",
    "\n",
    "    for artist in artists_list:\n",
    "        if artist != browsed_artist:\n",
    "            if re.search(artist, content):\n",
    "                features.append((browsed_artist, artist))"
   ]
  },
  {
   "cell_type": "code",
   "execution_count": 33,
   "metadata": {},
   "outputs": [],
   "source": [
    "import networkx as nx\n",
    "from pyvis.network import Network\n",
    "\n",
    "G = nx.Graph(features)"
   ]
  },
  {
   "cell_type": "code",
   "execution_count": 43,
   "metadata": {},
   "outputs": [],
   "source": [
    "net = Network()\n",
    "net.from_nx(G)\n",
    "net.repulsion()\n",
    "# for _, edge in df.iterrows():\n",
    "#     net.add_nodes([edge['guest'], edge['host']])\n",
    "#     net.add_edge(edge['guest'], edge['host'])\n",
    "\n",
    "net.show('music-net.html')"
   ]
  },
  {
   "cell_type": "code",
   "execution_count": 36,
   "metadata": {},
   "outputs": [
    {
     "data": {
      "text/plain": [
       "True"
      ]
     },
     "execution_count": 36,
     "metadata": {},
     "output_type": "execute_result"
    }
   ],
   "source": [
    "nx.is_connected(G)"
   ]
  },
  {
   "cell_type": "code",
   "execution_count": 44,
   "metadata": {},
   "outputs": [
    {
     "name": "stdout",
     "output_type": "stream",
     "text": [
      "['Nas', 'Drake', 'Future', '2 Chainz', 'Lil Wayne', 'Gucci Mane', 'Nicki Minaj', 'Chris Brown', 'The Game', 'Rick Ross', 'DJ Khaled', 'Meek Mill'] 12\n",
      "['Nas', 'Drake', 'Future', '2 Chainz', 'Lil Wayne', 'Gucci Mane', 'Nicki Minaj', 'Chris Brown', 'The Game', 'Rick Ross', 'DJ Khaled', 'Kanye West'] 12\n",
      "['Nas', 'Drake', 'Future', '2 Chainz', 'Lil Wayne', 'Gucci Mane', 'Nicki Minaj', 'Chris Brown', 'The Game', 'Rick Ross', 'Tyga', 'Meek Mill'] 12\n",
      "['Nas', 'Drake', 'Future', '2 Chainz', 'Lil Wayne', 'Gucci Mane', 'Nicki Minaj', 'Chris Brown', 'The Game', 'Rick Ross', 'Tyga', 'Kanye West'] 12\n",
      "['Nas', 'Drake', 'Future', '2 Chainz', 'Lil Wayne', 'Big Sean', 'DJ Khaled', 'Chris Brown', 'Nicki Minaj', 'The Game', 'Rick Ross', 'Meek Mill'] 12\n",
      "['Nas', 'Drake', 'Future', '2 Chainz', 'Lil Wayne', 'Big Sean', 'DJ Khaled', 'Chris Brown', 'Nicki Minaj', 'The Game', 'Rick Ross', 'Kanye West'] 12\n",
      "['Nas', 'Drake', 'Future', '2 Chainz', 'Lil Wayne', 'Big Sean', 'DJ Khaled', 'Chris Brown', 'Kendrick Lamar', 'Rick Ross', 'The Game', 'Meek Mill'] 12\n",
      "['Nas', 'Drake', 'Future', '2 Chainz', 'Lil Wayne', 'Big Sean', 'DJ Khaled', 'Chris Brown', 'Kendrick Lamar', 'Rick Ross', 'The Game', 'Kanye West'] 12\n",
      "['Nas', 'Drake', 'Future', '2 Chainz', 'Lil Wayne', 'Big Sean', 'Tyga', 'The Game', 'Rick Ross', 'Nicki Minaj', 'Chris Brown', 'Meek Mill'] 12\n",
      "['Nas', 'Drake', 'Future', '2 Chainz', 'Lil Wayne', 'Big Sean', 'Tyga', 'The Game', 'Rick Ross', 'Nicki Minaj', 'Chris Brown', 'Kanye West'] 12\n",
      "['Young Thug', 'Drake', '2 Chainz', 'Future', 'Lil Wayne', 'Nicki Minaj', 'Chris Brown', 'DJ Khaled', 'Gucci Mane', 'The Game', 'Rick Ross', 'Meek Mill'] 12\n",
      "['Young Thug', 'Drake', '2 Chainz', 'Future', 'Lil Wayne', 'Nicki Minaj', 'Chris Brown', 'DJ Khaled', 'Gucci Mane', 'The Game', 'Rick Ross', 'Kanye West'] 12\n",
      "['Young Thug', 'Drake', '2 Chainz', 'Future', 'Lil Wayne', 'Nicki Minaj', 'Chris Brown', 'Tyga', 'The Game', 'Rick Ross', 'Gucci Mane', 'Meek Mill'] 12\n",
      "['Young Thug', 'Drake', '2 Chainz', 'Future', 'Lil Wayne', 'Nicki Minaj', 'Chris Brown', 'Tyga', 'The Game', 'Rick Ross', 'Gucci Mane', 'Kanye West'] 12\n"
     ]
    }
   ],
   "source": [
    "cliques = nx.find_cliques(G)\n",
    "\n",
    "\n",
    "for n, clique in enumerate(cliques):\n",
    "    if len(clique) > 11:\n",
    "        print(clique, len(clique))"
   ]
  },
  {
   "cell_type": "code",
   "execution_count": 45,
   "metadata": {},
   "outputs": [],
   "source": [
    "high_degree_nodes = [n for n,d in G.degree() if d >=10]\n",
    "sub_graph = G.subgraph(high_degree_nodes)\n",
    "\n",
    "net = Network()\n",
    "net.from_nx(sub_graph)\n",
    "net.repulsion()\n",
    "net.show('music-net-subgraph.html')"
   ]
  },
  {
   "cell_type": "code",
   "execution_count": null,
   "metadata": {},
   "outputs": [],
   "source": []
  }
 ],
 "metadata": {
  "kernelspec": {
   "display_name": "Python 3",
   "language": "python",
   "name": "python3"
  },
  "language_info": {
   "codemirror_mode": {
    "name": "ipython",
    "version": 3
   },
   "file_extension": ".py",
   "mimetype": "text/x-python",
   "name": "python",
   "nbconvert_exporter": "python",
   "pygments_lexer": "ipython3",
   "version": "3.10.6 (main, Nov 14 2022, 16:10:14) [GCC 11.3.0]"
  },
  "orig_nbformat": 4,
  "vscode": {
   "interpreter": {
    "hash": "916dbcbb3f70747c44a77c7bcd40155683ae19c65e1c03b4aa3499c5328201f1"
   }
  }
 },
 "nbformat": 4,
 "nbformat_minor": 2
}
